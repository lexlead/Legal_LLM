{
 "cells": [
  {
   "cell_type": "code",
   "execution_count": 1,
   "id": "ebbd2865",
   "metadata": {},
   "outputs": [],
   "source": [
    "from openai import OpenAI"
   ]
  },
  {
   "cell_type": "code",
   "execution_count": 2,
   "id": "f74d65ff",
   "metadata": {},
   "outputs": [],
   "source": [
    "openai_api_key =  <your_key>"
   ]
  },
  {
   "cell_type": "code",
   "execution_count": 6,
   "id": "61f28662",
   "metadata": {},
   "outputs": [],
   "source": [
    "client = OpenAI(\n",
    "    api_key=openai_api_key,  # This is the default and can be omitted\n",
    ")"
   ]
  },
  {
   "cell_type": "code",
   "execution_count": 7,
   "id": "20354da8",
   "metadata": {},
   "outputs": [],
   "source": [
    "def llm_judger(question, generated_answer, correct_answer):\n",
    "    # Construct a prompt for GPT to judge the answer\n",
    "    judge_prompt = f\"\"\"\n",
    "    Instructions: Evaluate the relevance of the Generated answer to the Correct Answer.\n",
    "    \n",
    "    Question: {question}\n",
    "    Generated Answer: {generated_answer}\n",
    "    Correct Answer: {correct_answer}\n",
    "        \n",
    "    Please carefully compare these answers and determine if the generated answer \n",
    "    is correct and substantively captures the key points of the correct answer.\n",
    "    \n",
    "    The rule of evaluation is:\n",
    "    provide an evaluation score in 0, 1, 2 and a brief explanation for your rating,\n",
    "    2 means perfectly correct or almost correct (the meaning is the same), \n",
    "    1 means partially correct, \n",
    "    0 means irrelevant or wrong.\n",
    "    \n",
    "    Note: I only care about the meaning, even if the Generated Answer's phrasing and structure are not the same as the Correct Answer, as long as the meaning is the same, the Generated Answer is perfectly correct.\n",
    "    \n",
    "    Example:\n",
    "    Question 1: 'Where is diversity jurisdiction codified?'\n",
    "    Generated Answer: \"Diversity jurisdiction is codified in 28 U.S. Code § 1332. This section outlines the requirements for federal courts to hear cases where the parties are from different states or countries and the amount in controversy exceeds a specified threshold.\"\n",
    "    Correct Answer: '28 USC § 1332'\n",
    "    Evaluation: \"[Score = 2] Explanation: The answer is directly relevant and correct.\"\n",
    "    \n",
    "    Question 2: \"What test is used to determine a corporation's principal place of business for the purpose of diversity jurisdiction?\"\n",
    "    Generated Answer: \"The \"nerve center\" test, from Hertz Corp. v. Friend (2010), determines a corporation's principal place of business as the location where its executives manage and control operations.\"\n",
    "    Correct Answer: 'Nerve center test'\n",
    "    Evaluation: \"[Score = 2] Explanation: The answer is directly relevant and correct.\"\n",
    "    \n",
    "    Question 3: 'What are the three requirements for specific jurisdiction in federal court?'\n",
    "    Generated Answer: \"The three requirements for specific jurisdiction are: 1) Purposeful availment of the forum state, 2) The claim must arise from the defendant's contacts with the state, and 3) Exercising jurisdiction must be fair and reasonable under traditional justice standards.\"\n",
    "    Correct Answer: 'There must be sufficient minimum contacts between the defendant and the forum state, the claim must arise out of the nexus of these contacts, and the excercise of jurisdiction must be reasonable in light of these factors.'\n",
    "    Evaluation: [score = 1] Explanation: the answer is partially correct. The generated answer captures xxx. however, it does not xxx.\n",
    "\n",
    "    Question 4: 'What are the three requirements for copyright protection?'\n",
    "    Generated Answer: '''\n",
    "    The three requirements for copyright protection are:\n",
    "    Originality: The work must be independently created and possess a minimal degree of creativity.\n",
    "    Fixation: The work must be fixed in a tangible medium of expression.\n",
    "    Minimal Creativity: The work must demonstrate at least a modicum of creativity.\n",
    "    '''\n",
    "    Correct Answer: 'Work of authorship, fixation, creativity.'\n",
    "    Evaluation: [score = 2], Explanation: The answer is directly relevant and correct, even though \"work of authorship\" is not explicitly mentioned in the generated answer,\n",
    "    Originality can express the same meaning propertly.\n",
    "    \n",
    "    Question 5: 'Text: If she has direct evidence of discrimination, the court does not wade into the McDonnell Douglas test,4 but instead the burden shifts to Performance to “prove by a preponderance of the evidence that the same decision would have been made regardless of the discriminatory animus.”\n",
    "    Circuit: Fifth Circuit'\n",
    "    Generated Answer: '''\n",
    "    Rachid v. Jack in the Box, Inc., 376 F.3d 305, 312 (5th Cir. 2004) (\"If she has direct evidence of discrimination, the court does not wade into the McDonnell Douglas test, but instead the burden shifts to Performance to 'prove by a preponderance of the evidence that the same decision would have been made regardless of the discriminatory animus.'\")\n",
    "    '''\n",
    "    \n",
    "    \"\"\"\n",
    "        \n",
    "    response = client.chat.completions.create(\n",
    "        model=\"gpt-4o-mini\",\n",
    "        messages=[\n",
    "            {\"role\": \"user\", \"content\": judge_prompt},\n",
    "        ],\n",
    "        temperature=0.0,\n",
    "        max_tokens=200\n",
    "    )\n",
    "\n",
    "    return response.choices[0].message.content.strip().lower()"
   ]
  },
  {
   "cell_type": "code",
   "execution_count": 8,
   "id": "07a157ec",
   "metadata": {},
   "outputs": [
    {
     "data": {
      "text/plain": [
       "'evaluation: [score = 2] explanation: the generated answer accurately captures the essence of the legal principle discussed in the text, providing a relevant citation and context. it is directly relevant and correct.'"
      ]
     },
     "execution_count": 8,
     "metadata": {},
     "output_type": "execute_result"
    }
   ],
   "source": [
    "# Example usage\n",
    "question = 'What are the three requirements for copyright protection?'\n",
    "generated_answer = '''\n",
    "The three requirements for copyright protection are:\n",
    "\n",
    "Originality: The work must be independently created and possess a minimal degree of creativity.\n",
    "Fixation: The work must be fixed in a tangible medium of expression.\n",
    "Minimal Creativity: The work must demonstrate at least a modicum of creativity.\n",
    "'''\n",
    "correct_answer = 'Work of authorship, fixation, creativity.'\n",
    "result = llm_judger(question, generated_answer, correct_answer)\n",
    "result"
   ]
  },
  {
   "cell_type": "code",
   "execution_count": null,
   "id": "c288a7c0",
   "metadata": {},
   "outputs": [],
   "source": []
  }
 ],
 "metadata": {
  "kernelspec": {
   "display_name": "Python 3",
   "language": "python",
   "name": "python3"
  },
  "language_info": {
   "codemirror_mode": {
    "name": "ipython",
    "version": 3
   },
   "file_extension": ".py",
   "mimetype": "text/x-python",
   "name": "python",
   "nbconvert_exporter": "python",
   "pygments_lexer": "ipython3",
   "version": "3.12.5"
  }
 },
 "nbformat": 4,
 "nbformat_minor": 5
}
