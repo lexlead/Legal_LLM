{
 "cells": [
  {
   "cell_type": "code",
   "execution_count": 7,
   "id": "c61c0a52",
   "metadata": {},
   "outputs": [
    {
     "data": {
      "text/plain": [
       "'\\nResource of Code\\nhttps://github.com/langchain-ai/langchain/blob/master/cookbook/RAPTOR.ipynb\\n'"
      ]
     },
     "execution_count": 7,
     "metadata": {},
     "output_type": "execute_result"
    }
   ],
   "source": [
    "'''\n",
    "Resource of Code\n",
    "https://github.com/langchain-ai/langchain/blob/master/cookbook/RAPTOR.ipynb\n",
    "'''"
   ]
  },
  {
   "cell_type": "code",
   "execution_count": 8,
   "id": "bf020fe9",
   "metadata": {},
   "outputs": [
    {
     "data": {
      "text/plain": [
       "'\\n!pip install umap-learn\\n!pip install torch\\n!pip install transformers\\n!pip install sentence-transformers\\n!pip install scikit-learn\\n!pip install urllib3\\n!pip install tenacity\\n!pip install faiss-cpu\\n!pip install langchain_community\\n!pip install langchain_openai\\n!pip install matplotlib\\n!pip install rank_bm25\\n!pip install fitz\\n!pip install frontend\\n!pip install ipywidgets\\n'"
      ]
     },
     "execution_count": 8,
     "metadata": {},
     "output_type": "execute_result"
    }
   ],
   "source": [
    "'''\n",
    "!pip install umap-learn\n",
    "!pip install torch\n",
    "!pip install transformers\n",
    "!pip install sentence-transformers\n",
    "!pip install scikit-learn\n",
    "!pip install urllib3\n",
    "!pip install tenacity\n",
    "!pip install faiss-cpu\n",
    "!pip install langchain_community\n",
    "!pip install langchain_openai\n",
    "!pip install matplotlib\n",
    "!pip install rank_bm25\n",
    "!pip install fitz\n",
    "!pip install frontend\n",
    "!pip install ipywidgets\n",
    "'''"
   ]
  },
  {
   "cell_type": "code",
   "execution_count": 9,
   "id": "6562631c",
   "metadata": {},
   "outputs": [],
   "source": [
    "# pip install -U langchain umap-learn scikit-learn langchain_community tiktoken langchain-openai langchainhub langchain-chroma langchain-anthropic"
   ]
  },
  {
   "cell_type": "code",
   "execution_count": 10,
   "id": "d8b5c180",
   "metadata": {},
   "outputs": [],
   "source": [
    "from concurrent.futures import ProcessPoolExecutor, as_completed\n",
    "import json\n",
    "import tiktoken\n",
    "folder_path = '../statute_json_files/'"
   ]
  },
  {
   "cell_type": "code",
   "execution_count": 11,
   "id": "50c3859f",
   "metadata": {},
   "outputs": [],
   "source": [
    "openai_api_key = <your_key>"
   ]
  },
  {
   "cell_type": "code",
   "execution_count": 12,
   "id": "ec3f46f0",
   "metadata": {},
   "outputs": [],
   "source": [
    "from langchain_openai import OpenAIEmbeddings\n",
    "embd = OpenAIEmbeddings(openai_api_key=openai_api_key, model = \"text-embedding-3-small\", disallowed_special = ())"
   ]
  },
  {
   "cell_type": "code",
   "execution_count": 13,
   "id": "4666b26d",
   "metadata": {},
   "outputs": [],
   "source": [
    "from langchain_openai import ChatOpenAI\n",
    "model = ChatOpenAI(model_name=\"gpt-4o-mini\", openai_api_key=openai_api_key, temperature=0.0)"
   ]
  },
  {
   "cell_type": "code",
   "execution_count": 34,
   "id": "2a1c0440",
   "metadata": {},
   "outputs": [],
   "source": [
    "import numpy as np\n",
    "import pandas as pd\n",
    "from typing import List, Tuple, Dict, Optional\n",
    "import umap\n",
    "from sklearn.mixture import GaussianMixture\n",
    "from sklearn.preprocessing import StandardScaler\n",
    "from langchain.prompts import ChatPromptTemplate\n",
    "\n",
    "def simple_output_parser(output):\n",
    "    \"\"\"\n",
    "    A simple function to parse the output text from AIMessage objects.\n",
    "    \"\"\"\n",
    "    if hasattr(output, \"content\"):  # Check if the object has the 'content' attribute\n",
    "        return output.content.strip()  # Access the content and strip it\n",
    "    raise AttributeError(f\"Unexpected output type: {type(output)}\")\n",
    "\n",
    "RANDOM_SEED = 523  # Set your desired random seed here\n",
    "\n",
    "# Global clustering functions\n",
    "def global_cluster_embeddings(\n",
    "    embeddings: np.ndarray,\n",
    "    dim: int,\n",
    "    n_neighbors: Optional[int] = None,\n",
    "    metric: str = \"cosine\",\n",
    ") -> np.ndarray:\n",
    "    \"\"\"\n",
    "    Perform global dimensionality reduction on the embeddings using UMAP.\n",
    "\n",
    "    Parameters:\n",
    "    - embeddings: The input embeddings as a numpy array.\n",
    "    - dim: The target dimensionality for the reduced space.\n",
    "    - n_neighbors: Optional; the number of neighbors to consider for each point.\n",
    "    - metric: The distance metric to use for UMAP.\n",
    "\n",
    "    Returns:\n",
    "    - A numpy array of the embeddings reduced to the specified dimensionality.\n",
    "    \"\"\"\n",
    "    if n_neighbors is None:\n",
    "        n_neighbors = int((len(embeddings) - 1) ** 0.5)\n",
    "    return umap.UMAP(\n",
    "        n_neighbors=n_neighbors, n_components=dim, metric=metric\n",
    "    ).fit_transform(embeddings)\n",
    "\n",
    "\n",
    "def local_cluster_embeddings(\n",
    "    embeddings: np.ndarray, dim: int, num_neighbors: int = 10, metric: str = \"cosine\"\n",
    ") -> np.ndarray:\n",
    "    \"\"\"\n",
    "    Perform local dimensionality reduction on the embeddings using UMAP.\n",
    "\n",
    "    Parameters:\n",
    "    - embeddings: The input embeddings as a numpy array.\n",
    "    - dim: The target dimensionality for the reduced space.\n",
    "    - num_neighbors: The number of neighbors to consider for each point.\n",
    "    - metric: The distance metric to use for UMAP.\n",
    "\n",
    "    Returns:\n",
    "    - A numpy array of the embeddings reduced to the specified dimensionality.\n",
    "    \"\"\"\n",
    "    return umap.UMAP(\n",
    "        n_neighbors=num_neighbors, n_components=dim, metric=metric\n",
    "    ).fit_transform(embeddings)\n",
    "\n",
    "\n",
    "def get_optimal_clusters(\n",
    "    embeddings: np.ndarray, max_clusters: int = 50, random_state: int = RANDOM_SEED\n",
    ") -> int:\n",
    "    \"\"\"\n",
    "    Determine the optimal number of clusters using the Bayesian Information Criterion (BIC).\n",
    "\n",
    "    Parameters:\n",
    "    - embeddings: The input embeddings as a numpy array.\n",
    "    - max_clusters: The maximum number of clusters to consider.\n",
    "    - random_state: Seed for reproducibility.\n",
    "\n",
    "    Returns:\n",
    "    - An integer representing the optimal number of clusters found.\n",
    "    \"\"\"\n",
    "    max_clusters = min(max_clusters, len(embeddings))\n",
    "    n_clusters = np.arange(1, max_clusters)\n",
    "    bics = []\n",
    "    for n in n_clusters:\n",
    "        gm = GaussianMixture(n_components=n, random_state=random_state)\n",
    "        gm.fit(embeddings)\n",
    "        bics.append(gm.bic(embeddings))\n",
    "    return n_clusters[np.argmin(bics)]\n",
    "\n",
    "\n",
    "def GMM_cluster(embeddings: np.ndarray, threshold: float, random_state: int = 42):\n",
    "    \"\"\"\n",
    "    Cluster embeddings using a Gaussian Mixture Model (GMM) based on a probability threshold.\n",
    "\n",
    "    Parameters:\n",
    "    - embeddings: The input embeddings as a numpy array.\n",
    "    - threshold: The probability threshold for assigning an embedding to a cluster.\n",
    "    - random_state: Seed for reproducibility.\n",
    "\n",
    "    Returns:\n",
    "    - A tuple containing the cluster labels and the number of clusters determined.\n",
    "    \"\"\"\n",
    "    n_clusters = get_optimal_clusters(embeddings)\n",
    "    gm = GaussianMixture(n_components=n_clusters, random_state=random_state)\n",
    "    gm.fit(embeddings)\n",
    "    probs = gm.predict_proba(embeddings)\n",
    "    labels = [np.where(prob > threshold)[0] for prob in probs]\n",
    "    return labels, n_clusters\n",
    "\n",
    "\n",
    "def perform_clustering(\n",
    "    embeddings: np.ndarray,\n",
    "    dim: int,\n",
    "    threshold: float,\n",
    ") -> List[np.ndarray]:\n",
    "    \"\"\"\n",
    "    Perform clustering on the embeddings by first reducing their dimensionality globally,\n",
    "    then clustering using a Gaussian Mixture Model, and finally performing local clustering.\n",
    "\n",
    "    Parameters:\n",
    "    - embeddings: The input embeddings as a numpy array.\n",
    "    - dim: The target dimensionality for UMAP reduction.\n",
    "    - threshold: The probability threshold for assigning an embedding to a cluster.\n",
    "\n",
    "    Returns:\n",
    "    - A list of numpy arrays, where each array contains the cluster IDs for each embedding.\n",
    "    \"\"\"\n",
    "    if len(embeddings) <= dim + 1:\n",
    "        # Return direct assignment for insufficient data\n",
    "        return [np.array([0]) for _ in range(len(embeddings))]\n",
    "\n",
    "    # Global dimensionality reduction\n",
    "    reduced_embeddings_global = global_cluster_embeddings(embeddings, dim)\n",
    "    \n",
    "    # Global clustering\n",
    "    global_clusters, n_global_clusters = GMM_cluster(reduced_embeddings_global, threshold)\n",
    "\n",
    "    all_local_clusters = [np.array([]) for _ in range(len(embeddings))]\n",
    "    total_clusters = 0\n",
    "\n",
    "    for i in range(n_global_clusters):\n",
    "        # Extract embeddings belonging to the current global cluster\n",
    "        cluster_mask = np.array([i in gc for gc in global_clusters])\n",
    "        global_cluster_embeddings_ = embeddings[cluster_mask]\n",
    "\n",
    "        if len(global_cluster_embeddings_) == 0:\n",
    "            continue\n",
    "        if len(global_cluster_embeddings_) <= dim + 1:\n",
    "            # Direct assignment for small clusters\n",
    "            local_clusters = [np.array([0]) for _ in global_cluster_embeddings_]\n",
    "            n_local_clusters = 1\n",
    "        else:\n",
    "            # Local dimensionality reduction and clustering\n",
    "            reduced_embeddings_local = local_cluster_embeddings(global_cluster_embeddings_, dim)\n",
    "            local_clusters, n_local_clusters = GMM_cluster(reduced_embeddings_local, threshold)\n",
    "\n",
    "        for j in range(n_local_clusters):\n",
    "            cluster_mask = np.array([j in lc for lc in local_clusters])\n",
    "            local_cluster_embeddings_ = global_cluster_embeddings_[cluster_mask]\n",
    "            indices = np.where((embeddings == local_cluster_embeddings_[:, None]).all(-1))[1]\n",
    "\n",
    "            for idx in indices:\n",
    "                all_local_clusters[idx] = np.append(all_local_clusters[idx], j + total_clusters)\n",
    "\n",
    "        total_clusters += n_local_clusters\n",
    "\n",
    "    return all_local_clusters\n",
    "\n",
    "\n",
    "# Embedding and clustering utility functions\n",
    "def embed(texts):\n",
    "    \"\"\"\n",
    "    Generate embeddings for a list of text documents.\n",
    "\n",
    "    Parameters:\n",
    "    - texts: List[str], a list of text documents to be embedded.\n",
    "\n",
    "    Returns:\n",
    "    - numpy.ndarray: An array of embeddings for the given text documents.\n",
    "    \"\"\"\n",
    "    text_embeddings = embd.embed_documents(texts)\n",
    "    return np.array(text_embeddings)\n",
    "\n",
    "\n",
    "def embed_cluster_texts(texts):\n",
    "    \"\"\"\n",
    "    Embeds a list of texts and clusters them, returning a DataFrame with texts, embeddings, and cluster labels.\n",
    "\n",
    "    Parameters:\n",
    "    - texts: List[str], a list of text documents to be processed.\n",
    "\n",
    "    Returns:\n",
    "    - pandas.DataFrame: DataFrame containing the original texts, embeddings, and cluster labels.\n",
    "    \"\"\"\n",
    "    text_embeddings_np = embed(texts)\n",
    "    cluster_labels = perform_clustering(text_embeddings_np, 10, 0.1)\n",
    "    df = pd.DataFrame({\n",
    "        \"text\": texts,\n",
    "        \"embd\": list(text_embeddings_np),\n",
    "        \"cluster\": cluster_labels\n",
    "    })\n",
    "    return df\n",
    "\n",
    "\n",
    "def fmt_txt(df: pd.DataFrame) -> str:\n",
    "    \"\"\"\n",
    "    Formats the text documents in a DataFrame into a single string.\n",
    "\n",
    "    Parameters:\n",
    "    - df: DataFrame containing the 'text' column with text documents to format.\n",
    "\n",
    "    Returns:\n",
    "    - A single string where all text documents are joined by a specific delimiter.\n",
    "    \"\"\"\n",
    "    return \"--- --- \\n --- --- \".join(df[\"text\"].tolist())\n",
    "\n",
    "\n",
    "def embed_cluster_summarize_texts(\n",
    "    texts: List[str], level: int\n",
    ") -> Tuple[pd.DataFrame, pd.DataFrame]:\n",
    "    \"\"\"\n",
    "    Embeds, clusters, and summarizes a list of texts.\n",
    "\n",
    "    Parameters:\n",
    "    - texts: A list of text documents to be processed.\n",
    "    - level: An integer parameter defining the depth or detail of processing.\n",
    "\n",
    "    Returns:\n",
    "    - Tuple containing two DataFrames:\n",
    "      1. `df_clusters`: contains the original texts, embeddings, and cluster assignments.\n",
    "      2. `df_summary`: contains summaries for each cluster and their identifiers.\n",
    "    \"\"\"\n",
    "    df_clusters = embed_cluster_texts(texts)\n",
    "\n",
    "    expanded_list = []\n",
    "    for _, row in df_clusters.iterrows():\n",
    "        for cluster in row[\"cluster\"]:\n",
    "            expanded_list.append({\"text\": row[\"text\"], \"embd\": row[\"embd\"], \"cluster\": cluster})\n",
    "\n",
    "    expanded_df = pd.DataFrame(expanded_list)\n",
    "    all_clusters = expanded_df[\"cluster\"].unique()\n",
    "\n",
    "    print(f\"--Generated {len(all_clusters)} clusters--\")\n",
    "\n",
    "    # Summarization chain setup\n",
    "    template = \"\"\"\n",
    "    Write a summary of the following, including as many key details as possible: {context}\n",
    "    Max words: 150.\n",
    "    Documentation:\n",
    "    {context}\n",
    "    \"\"\"\n",
    "    prompt = ChatPromptTemplate.from_template(template)\n",
    "    chain = prompt | model | simple_output_parser\n",
    "\n",
    "    summaries = []\n",
    "    for i in all_clusters:\n",
    "        df_cluster = expanded_df[expanded_df[\"cluster\"] == i]\n",
    "        formatted_txt = fmt_txt(df_cluster)\n",
    "        summaries.append(chain.invoke({\"context\": formatted_txt}))\n",
    "\n",
    "    df_summary = pd.DataFrame({\n",
    "        \"summaries\": summaries,\n",
    "        \"level\": [level] * len(summaries),\n",
    "        \"cluster\": list(all_clusters),\n",
    "    })\n",
    "\n",
    "    return df_clusters, df_summary\n",
    "\n",
    "\n",
    "def recursive_embed_cluster_summarize(\n",
    "    texts: List[str], level: int = 1, n_levels: int = 3\n",
    ") -> Dict[int, Tuple[pd.DataFrame, pd.DataFrame]]:\n",
    "    \"\"\"\n",
    "    Recursively embeds, clusters, and summarizes text documents over multiple levels.\n",
    "\n",
    "    Parameters:\n",
    "    - texts: List[str], the list of text documents.\n",
    "    - level: Integer indicating the current depth of recursion (default 1).\n",
    "    - n_levels: Integer indicating the number of recursion levels (default 3).\n",
    "\n",
    "    Returns:\n",
    "    - Dictionary where keys are the recursion levels, and values are tuples containing \n",
    "      DataFrames for clusters and summaries at that level.\n",
    "    \"\"\"\n",
    "    dfs = {}\n",
    "    df_clusters, df_summary = embed_cluster_summarize_texts(texts, level)\n",
    "\n",
    "    if level <= n_levels:\n",
    "        next_texts = df_summary[\"summaries\"].tolist()\n",
    "        dfs[level] = (df_clusters, df_summary)\n",
    "        dfs.update(recursive_embed_cluster_summarize(next_texts, level + 1, n_levels))\n",
    "\n",
    "    return dfs"
   ]
  },
  {
   "cell_type": "code",
   "execution_count": 51,
   "id": "bdc952e8",
   "metadata": {},
   "outputs": [
    {
     "name": "stdout",
     "output_type": "stream",
     "text": [
      "--Generated 4 clusters--\n",
      "--Generated 1 clusters--\n",
      "--Generated 1 clusters--\n"
     ]
    }
   ],
   "source": [
    "'''\n",
    "1 - find resources \n",
    "'''\n",
    "texts = [\n",
    "    # Cluster 1: Education News\n",
    "    \"The field of education is evolving rapidly with the integration of digital tools and online learning platforms, making education more accessible to people around the world.\",\n",
    "    \"Adaptive learning technology is personalizing the educational experience, allowing students to learn at their own pace and according to their unique needs.\",\n",
    "    \"Virtual reality (VR) is being used to create immersive learning environments, helping students gain practical knowledge in fields such as medicine, engineering, and history.\",\n",
    "    \"Educational institutions are increasingly adopting AI-driven tools to automate administrative tasks and enhance the learning experience through smart content delivery.\",\n",
    "    \"The shift towards remote and hybrid learning models has changed the traditional classroom dynamic, leading to innovations in teaching strategies and digital collaboration.\",\n",
    "    \n",
    "    # Cluster 2: Criminal News\n",
    "    \"Chicago man charged in fatal shooting of suburban ...8 hours ago — Oak Park Police Detective Allan Reddins was the first Oak Park officer killed in the line of duty since 193.\",\n",
    "    \"Violent crime rates have been rising in urban centers, with many communities facing challenges related to gang violence, robberies, and assaults. Law enforcement agencies are working to implement strategies for public safety and crime prevention.\",\n",
    "    \"Recent studies indicate that cities with higher levels of economic disparity often experience more violent crime. Addressing issues such as poverty, education, and job opportunities is seen as a long-term solution to reduce violent incidents.\",\n",
    "    \"The advent of new technologies has brought both opportunities and challenges to crime prevention. Surveillance systems, facial recognition, and data analytics are being used to combat violent crime but raise privacy concerns.\",\n",
    "    \"Police departments are increasingly turning to community-based strategies to foster trust and cooperation with the public. Such initiatives aim to reduce violent crime rates through proactive measures and enhanced communication.\",\n",
    "    \"Violent crime prevention programs that focus on youth engagement and education have shown positive results in reducing incidents. Programs that mentor young people and provide safe recreational activities are crucial in building safer communities.\",\n",
    "    \"Homicides and aggravated assaults continue to challenge law enforcement agencies across the globe. Effective response strategies and public cooperation are key to reducing these crimes.\",\n",
    "    \"Urban violence often correlates with socioeconomic issues. Solutions that aim to reduce violence include improved housing, better access to education, and job creation to alleviate the root causes of violent crime.\",\n",
    "    \"There's a shooting incident.\",\n",
    "    \n",
    "    # Cluster 3: Financial News\n",
    "    \"The financial market has been experiencing fluctuations due to global economic uncertainties, including geopolitical tensions and inflation concerns.\",\n",
    "    \"Investment in sustainable and green technologies is on the rise as investors seek to support environmentally friendly initiatives while diversifying their portfolios.\",\n",
    "    \"Cryptocurrency continues to attract attention from both investors and regulators, with debates about its potential for mainstream adoption and regulatory frameworks.\",\n",
    "    \"Central banks around the world are adjusting interest rates in response to economic conditions, aiming to balance growth and inflation control.\",\n",
    "    \"The stock market has seen significant movements in the tech sector, driven by innovations in artificial intelligence, cloud computing, and next-generation technologies.\"\n",
    "]\n",
    "\n",
    "\n",
    "# Perform recursive embedding, clustering, and summarization over 3 levels\n",
    "results = recursive_embed_cluster_summarize(texts, level=1, n_levels=2)"
   ]
  },
  {
   "cell_type": "code",
   "execution_count": 52,
   "id": "5136d3ab",
   "metadata": {},
   "outputs": [
    {
     "name": "stdout",
     "output_type": "stream",
     "text": [
      "\n",
      "Summarized clusters (Level 1):\n",
      "                                           summaries  level  cluster\n",
      "0  The education sector is rapidly evolving due t...      1      1.0\n",
      "1  A Chicago man has been charged in the fatal sh...      1      3.0\n",
      "2  Violent crime rates are increasing in urban ar...      1      0.0\n",
      "3  The financial market is currently experiencing...      1      2.0\n"
     ]
    }
   ],
   "source": [
    "# Display the output at the first level\n",
    "df_clusters_level1, df_summary_level1 = results[1]\n",
    "print(\"\\nSummarized clusters (Level 1):\")\n",
    "print(df_summary_level1)"
   ]
  },
  {
   "cell_type": "code",
   "execution_count": 53,
   "id": "b9668fb1",
   "metadata": {
    "scrolled": true
   },
   "outputs": [
    {
     "data": {
      "text/plain": [
       "'The education sector is rapidly evolving due to the integration of digital tools and online platforms, enhancing global accessibility. Adaptive learning technology personalizes education, enabling students to learn at their own pace based on individual needs. Virtual reality (VR) is being utilized to create immersive environments, providing practical knowledge in fields like medicine, engineering, and history. Additionally, educational institutions are increasingly implementing AI-driven tools to automate administrative tasks and improve learning experiences through smart content delivery. The transition to remote and hybrid learning models has transformed traditional classroom dynamics, fostering innovations in teaching strategies and digital collaboration.'"
      ]
     },
     "execution_count": 53,
     "metadata": {},
     "output_type": "execute_result"
    }
   ],
   "source": [
    "df_summary_level1['summaries'].iloc[0] # cluster 2"
   ]
  },
  {
   "cell_type": "code",
   "execution_count": 54,
   "id": "b5ad49c6",
   "metadata": {},
   "outputs": [
    {
     "data": {
      "text/plain": [
       "'A Chicago man has been charged in the fatal shooting of Oak Park Police Detective Allan Reddins, marking the first time an Oak Park officer has been killed in the line of duty since 193. This incident highlights ongoing challenges in crime prevention, as law enforcement grapples with rising homicide and aggravated assault rates. New technologies, such as surveillance systems, facial recognition, and data analytics, are being employed to combat violent crime, though they raise significant privacy concerns. In response, police departments are increasingly adopting community-based strategies to build trust and cooperation with the public, aiming to reduce crime through proactive measures and improved communication. Effective response strategies and public collaboration remain crucial in addressing these persistent issues in law enforcement.'"
      ]
     },
     "execution_count": 54,
     "metadata": {},
     "output_type": "execute_result"
    }
   ],
   "source": [
    "df_summary_level1['summaries'].iloc[1] # cluster 3"
   ]
  },
  {
   "cell_type": "code",
   "execution_count": 55,
   "id": "d538e9b8",
   "metadata": {},
   "outputs": [
    {
     "data": {
      "text/plain": [
       "'Violent crime rates are increasing in urban areas, with communities grappling with gang violence, robberies, and assaults. Law enforcement is actively developing strategies for public safety and crime prevention. Research shows that cities with significant economic disparity tend to have higher violent crime rates, highlighting the need to address poverty, education, and job opportunities as long-term solutions. Effective violent crime prevention programs focusing on youth engagement and education have demonstrated success in reducing incidents. These initiatives, which include mentoring and providing safe recreational activities, are essential for fostering safer communities. Overall, urban violence is closely linked to socioeconomic issues, and addressing root causes through improved housing, education access, and job creation is vital for reducing violent crime.'"
      ]
     },
     "execution_count": 55,
     "metadata": {},
     "output_type": "execute_result"
    }
   ],
   "source": [
    "df_summary_level1['summaries'].iloc[2]"
   ]
  },
  {
   "cell_type": "code",
   "execution_count": 58,
   "id": "6f95d79e",
   "metadata": {},
   "outputs": [
    {
     "data": {
      "text/plain": [
       "'The financial market is currently experiencing fluctuations due to global economic uncertainties, including geopolitical tensions and inflation concerns. Amidst this volatility, investment in sustainable and green technologies is increasing as investors aim to support environmentally friendly initiatives while diversifying their portfolios. Cryptocurrency remains a focal point for both investors and regulators, sparking discussions about its potential for mainstream adoption and the need for regulatory frameworks. Central banks worldwide are adjusting interest rates to balance economic growth and inflation control. Additionally, the stock market has seen notable movements in the tech sector, propelled by innovations in artificial intelligence, cloud computing, and next-generation technologies.'"
      ]
     },
     "execution_count": 58,
     "metadata": {},
     "output_type": "execute_result"
    }
   ],
   "source": [
    "df_summary_level1['summaries'].iloc[3]"
   ]
  },
  {
   "cell_type": "code",
   "execution_count": 56,
   "id": "bf5c8336",
   "metadata": {},
   "outputs": [
    {
     "name": "stdout",
     "output_type": "stream",
     "text": [
      "\n",
      "Summarized clusters (Level 2):\n",
      "                                           summaries  level  cluster\n",
      "0  The education sector is rapidly evolving with ...      2        0\n"
     ]
    }
   ],
   "source": [
    "# Display the output at the first level\n",
    "df_clusters_level2, df_summary_level2 = results[2]\n",
    "print(\"\\nSummarized clusters (Level 2):\")\n",
    "print(df_summary_level2)"
   ]
  },
  {
   "cell_type": "code",
   "execution_count": 57,
   "id": "d3492b99",
   "metadata": {},
   "outputs": [
    {
     "data": {
      "text/plain": [
       "'The education sector is rapidly evolving with digital tools and online platforms enhancing global accessibility. Adaptive learning technology allows personalized education, while virtual reality (VR) creates immersive learning environments in fields like medicine and engineering. AI-driven tools are being implemented to automate administrative tasks and improve learning experiences. The shift to remote and hybrid learning models has transformed classroom dynamics, fostering innovative teaching strategies.\\n\\nIn law enforcement, a Chicago man has been charged with the fatal shooting of Oak Park Police Detective Allan Reddins, the first officer killed in the line of duty since 193. This incident underscores challenges in crime prevention amid rising homicide rates. Police are adopting new technologies and community-based strategies to build public trust and reduce crime.\\n\\nUrban areas are facing increasing violent crime rates linked to socioeconomic disparities. Effective prevention programs focusing on youth engagement and education are essential for fostering safer communities.\\n\\nIn the financial market, fluctuations are driven by global uncertainties, with a rise in investments in sustainable technologies and ongoing discussions about cryptocurrency regulation. Central banks are adjusting interest rates to manage economic growth and inflation, while the tech sector sees notable advancements.'"
      ]
     },
     "execution_count": 57,
     "metadata": {},
     "output_type": "execute_result"
    }
   ],
   "source": [
    "df_summary_level2['summaries'].iloc[0]"
   ]
  },
  {
   "cell_type": "code",
   "execution_count": 70,
   "id": "555634fe",
   "metadata": {},
   "outputs": [],
   "source": [
    "a = [\"abc\"]\n",
    "b = \"def\""
   ]
  },
  {
   "cell_type": "code",
   "execution_count": 74,
   "id": "a60f2f08",
   "metadata": {},
   "outputs": [
    {
     "name": "stdout",
     "output_type": "stream",
     "text": [
      "['abc', 'def']\n"
     ]
    }
   ],
   "source": [
    "a = [\"abc\"] # this is level 0 stuff\n",
    "b = [\"def\"] # this is RAPTOR summerized stuff\n",
    "a.extend(b) # add element\n",
    "print(a)  "
   ]
  },
  {
   "cell_type": "code",
   "execution_count": 75,
   "id": "a4e1753a",
   "metadata": {
    "scrolled": true
   },
   "outputs": [
    {
     "data": {
      "text/plain": [
       "list"
      ]
     },
     "execution_count": 75,
     "metadata": {},
     "output_type": "execute_result"
    }
   ],
   "source": [
    "type(all_texts)"
   ]
  },
  {
   "cell_type": "code",
   "execution_count": 42,
   "id": "d30c47f9",
   "metadata": {},
   "outputs": [
    {
     "name": "stdout",
     "output_type": "stream",
     "text": [
      "curr summaries ['The education sector is rapidly evolving due to the integration of digital tools and online platforms, enhancing global accessibility. Adaptive learning technology personalizes education, enabling students to learn at their own pace based on individual needs. Virtual reality (VR) is being utilized to create immersive environments, providing practical knowledge in fields like medicine, engineering, and history. Additionally, educational institutions are increasingly implementing AI-driven tools to automate administrative tasks and improve learning experiences through smart content delivery. The transition to remote and hybrid learning models has transformed traditional classroom dynamics, fostering innovations in teaching strategies and digital collaboration.', 'A Chicago man has been charged in the fatal shooting of Oak Park Police Detective Allan Reddins, marking the first time an Oak Park officer has been killed in the line of duty since 193. This incident highlights ongoing challenges in crime prevention, as law enforcement grapples with rising homicide and aggravated assault rates. New technologies, such as surveillance systems, facial recognition, and data analytics, are being employed to combat violent crime, though they raise significant privacy concerns. In response, police departments are increasingly adopting community-based strategies to build trust and cooperation with the public, aiming to reduce crime through proactive measures and improved communication. Effective response strategies and public collaboration remain crucial in addressing these persistent issues in law enforcement.', 'Violent crime rates are increasing in urban areas, with communities grappling with gang violence, robberies, and assaults. Law enforcement is actively developing strategies for public safety and crime prevention. Research shows that cities with significant economic disparity tend to have higher violent crime rates, highlighting the need to address poverty, education, and job opportunities as long-term solutions. Effective violent crime prevention programs focusing on youth engagement and education have demonstrated success in reducing incidents. These initiatives, which include mentoring and providing safe recreational activities, are essential for fostering safer communities. Overall, urban violence is closely linked to socioeconomic issues, and addressing root causes through improved housing, education access, and job creation is vital for reducing violent crime.', 'The financial market is currently experiencing fluctuations due to global economic uncertainties, including geopolitical tensions and inflation concerns. Amidst this volatility, investment in sustainable and green technologies is increasing as investors aim to support environmentally friendly initiatives while diversifying their portfolios. Cryptocurrency remains a focal point for both investors and regulators, sparking debates over its potential for mainstream adoption and the need for regulatory frameworks. Central banks worldwide are adjusting interest rates to balance economic growth and inflation control. Additionally, the stock market has seen notable movements in the tech sector, propelled by innovations in artificial intelligence, cloud computing, and next-generation technologies.']\n"
     ]
    }
   ],
   "source": [
    "from langchain_chroma import Chroma\n",
    "from langchain_core.runnables import RunnablePassthrough\n",
    "from langchain import hub\n",
    "\n",
    "# Initialize all_texts with your preprocessed text\n",
    "all_texts = texts.copy()\n",
    "\n",
    "# Iterate through the results to extract summaries and add them to all_texts\n",
    "for level in sorted(results.keys()):\n",
    "    summaries = results[level][1][\"summaries\"].tolist()\n",
    "    print(\"curr summaries\", summaries)\n",
    "    all_texts.extend(summaries) # -> extend ?????\n",
    "    print(\"One level is done\")"
   ]
  },
  {
   "cell_type": "code",
   "execution_count": null,
   "id": "cd0de439",
   "metadata": {},
   "outputs": [],
   "source": [
    "# Iterate through the results to extract summaries and add them to all_texts\n",
    "for level in sorted(results.keys()):\n",
    "    summaries = results[level][2][\"summaries\"].tolist()\n",
    "    print(\"curr summaries\", summaries)\n",
    "    all_texts.extend(summaries)\n",
    "    print(\"One level is done\")"
   ]
  },
  {
   "cell_type": "code",
   "execution_count": null,
   "id": "afeae616",
   "metadata": {},
   "outputs": [],
   "source": [
    "# This is your tree\n",
    "# all_texts"
   ]
  },
  {
   "cell_type": "code",
   "execution_count": null,
   "id": "ab3c59d8",
   "metadata": {},
   "outputs": [],
   "source": []
  }
 ],
 "metadata": {
  "kernelspec": {
   "display_name": "Python 3",
   "language": "python",
   "name": "python3"
  },
  "language_info": {
   "codemirror_mode": {
    "name": "ipython",
    "version": 3
   },
   "file_extension": ".py",
   "mimetype": "text/x-python",
   "name": "python",
   "nbconvert_exporter": "python",
   "pygments_lexer": "ipython3",
   "version": "3.10.13"
  }
 },
 "nbformat": 4,
 "nbformat_minor": 5
}
